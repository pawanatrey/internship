{
 "cells": [
  {
   "cell_type": "code",
   "execution_count": 3,
   "id": "0102d59c",
   "metadata": {},
   "outputs": [
    {
     "name": "stdout",
     "output_type": "stream",
     "text": [
      "Enter User ID - SDFDS\n",
      "Enter Password - 345\n",
      "Wrong Password\n",
      "Forget Password ? Y or N - Y\n",
      "Your OTP is -  [976471]\n",
      "Enter OTP 435646\n",
      "Re-enter the OTP\n",
      "Enter OTP 4564\n",
      "Re-enter the OTP\n",
      "Enter OTP 976471\n",
      "Login success\n"
     ]
    }
   ],
   "source": [
    "from numpy.random import randint as ri\n",
    "    \n",
    "# Registered user id and password\\n\",\n",
    "reg_id = 'data_trained@xyz.com'\n",
    "reg_password = 123456\n",
    "    \n",
    "try:\n",
    "    while True:\n",
    "        u_id = input('Enter User ID - ')\n",
    "        password = int(input('Enter Password - '))\n",
    "        if u_id == reg_id and password == reg_password:\n",
    "            print ('Login Success')\n",
    "            break\n",
    "        else:\n",
    "            print ('Wrong Password')\n",
    "            forgot_password = input('Forget Password ? Y or N - ')\n",
    "            if forgot_password == 'Y':\n",
    "                otp1 = ri(100000, 1000000, 1)\n",
    "                print('Your OTP is - ', otp1)\n",
    "                user_otp = int(input('Enter OTP '))\n",
    "                if otp1 == user_otp:\n",
    "                    print('Login success')\n",
    "                    break\n",
    "                else:\n",
    "                    attempts = 1\n",
    "                    while True: \n",
    "                        if attempts == 3:\n",
    "                            print ('Max attempts reached, Try after sometime')\n",
    "                            break                 \n",
    "                        else:\n",
    "                            attempts += 1\n",
    "                            print ('Re-enter the OTP')\n",
    "                            user_otp = int(input('Enter OTP '))\n",
    "                            if otp1 == user_otp:\n",
    "                                print('Login success')\n",
    "                                success = True\n",
    "                                break\n",
    "                            else:\n",
    "                                continue\n",
    "                                \n",
    "                    if success:    \n",
    "                        break\n",
    "                    else:\n",
    "                        continue          \n",
    "            else:\n",
    "                print ('Re-enter login details')\n",
    "                continue\n",
    "except:\n",
    "    \n",
    "    print ('Please Enter Valid Details')\n",
    "  "
   ]
  },
  {
   "cell_type": "code",
   "execution_count": null,
   "id": "8bcee44e",
   "metadata": {},
   "outputs": [],
   "source": []
  }
 ],
 "metadata": {
  "kernelspec": {
   "display_name": "Python 3 (ipykernel)",
   "language": "python",
   "name": "python3"
  },
  "language_info": {
   "codemirror_mode": {
    "name": "ipython",
    "version": 3
   },
   "file_extension": ".py",
   "mimetype": "text/x-python",
   "name": "python",
   "nbconvert_exporter": "python",
   "pygments_lexer": "ipython3",
   "version": "3.11.5"
  }
 },
 "nbformat": 4,
 "nbformat_minor": 5
}
