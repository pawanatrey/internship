{
 "cells": [
  {
   "cell_type": "code",
   "execution_count": 1,
   "id": "c4e2dc0e",
   "metadata": {},
   "outputs": [],
   "source": [
    "# First import all necessary libraries\n",
    "\n",
    "import selenium\n",
    "import pandas as pd\n",
    "from selenium import webdriver\n",
    "from selenium.webdriver.common.by import By \n",
    "import time # it is used to pause any webpage for a particular time so that loading can be done seccessfully.\n",
    "import warnings\n",
    "warnings.filterwarnings('ignore')# it will ignore the unnecesary warnings"
   ]
  },
  {
   "cell_type": "code",
   "execution_count": null,
   "id": "06d58eb8",
   "metadata": {},
   "outputs": [],
   "source": [
    "# Q1: Write a python program to scrape data for “Data Analyst” Job position in “Bangalore” location. \n",
    "#     You have to scrape the job-title, job-location, company_name, experience_required. You have to scrape first 10 jobs data.\n",
    "#     This task will be done in following steps:\n",
    "#    1. First get the webpage https://www.shine.com/\n",
    "#    2. Enter “Data Analyst” in “Job title, Skills” field and enter “Bangalore” in “enter the location” field.\n",
    "#    3. Then click the searchbutton.\n",
    "#    4. Then scrape the data for the first 10 jobs results you get.\n",
    "#    5. Finally create a dataframe of the scraped data"
   ]
  },
  {
   "cell_type": "code",
   "execution_count": 14,
   "id": "9f627f0f",
   "metadata": {},
   "outputs": [],
   "source": [
    "# Through this tool selenium will interact with browser and scrap the information\n",
    "driver=webdriver.Chrome()"
   ]
  },
  {
   "cell_type": "code",
   "execution_count": 15,
   "id": "5c9bd87f",
   "metadata": {},
   "outputs": [],
   "source": [
    "# Here we are sending a request to the server that hosting the webpage\n",
    "driver.get('https://www.shine.com/')"
   ]
  },
  {
   "cell_type": "code",
   "execution_count": 16,
   "id": "9ff88a27",
   "metadata": {},
   "outputs": [],
   "source": [
    "# To search the Job Title 'Data Analyst'. \n",
    "# find_element is the function through which we find the required element.\n",
    "# Here we are using 'By' keyword through which we use 'CLASS_NAME attribute to find the element.\n",
    "# send_keys(), function is use to write the information in the box\n",
    "\n",
    "designation=driver.find_element(By.CLASS_NAME,\"form-control  \")\n",
    "designation.send_keys('Data Analyst')"
   ]
  },
  {
   "cell_type": "code",
   "execution_count": 17,
   "id": "c95f1190",
   "metadata": {},
   "outputs": [],
   "source": [
    "# To search the Job location 'Bangalore'.\n",
    "# find_element is the function through which we find the required element.\n",
    "# Here we are using 'By' keyword through which we use 'XPATH' attribute to find the element.\n",
    "# absolute Xpath we used here because we are finding only one element.\n",
    "\n",
    "location=driver.find_element(By.XPATH,\"/html/body/div/div[2]/div/div/div[1]/div[1]/div/div[2]/div/div/form/div/div[1]/ul/li[2]/div/input\")\n",
    "location.send_keys('Bangalore')"
   ]
  },
  {
   "cell_type": "code",
   "execution_count": 19,
   "id": "870bac30",
   "metadata": {},
   "outputs": [],
   "source": [
    "# use click button to search both of above element \n",
    "# click(), function we used here to click on any button\n",
    "\n",
    "search=driver.find_element(By.CLASS_NAME,\"searchForm_btnWrap_advance__VYBHN\")\n",
    "search.click()"
   ]
  },
  {
   "cell_type": "code",
   "execution_count": 20,
   "id": "78dbbca2",
   "metadata": {},
   "outputs": [],
   "source": [
    "# create empty list\n",
    "\n",
    "job_title=[]\n",
    "company_name=[]\n",
    "experience=[]\n",
    "loca=[]"
   ]
  },
  {
   "cell_type": "code",
   "execution_count": 21,
   "id": "dd4a3442",
   "metadata": {},
   "outputs": [
    {
     "data": {
      "text/plain": [
       "['Data Analyst , Senior Data Analyst , Data Analyst - Tec ...',\n",
       " 'Data Analyst',\n",
       " 'Lead Data Analyst',\n",
       " 'Lead Data Analyst',\n",
       " 'Data Analyst',\n",
       " 'Data Analyst (Need Immediate Joiner)',\n",
       " 'Data Analyst (Need Immediate Joiner)',\n",
       " 'Data Analyst (Power BI, Python, SQL)- Internal Audit do ...',\n",
       " 'Clinical Data Analyst',\n",
       " 'Data Analyst Opening']"
      ]
     },
     "execution_count": 21,
     "metadata": {},
     "output_type": "execute_result"
    }
   ],
   "source": [
    "# Save all scrap data into list and show\n",
    "\n",
    "title_tags=driver.find_elements(By.XPATH,'//strong[@class=\"jobCard_pReplaceH2__xWmHg\"]/h2/a')\n",
    "for i in title_tags[0:10]:\n",
    "    job_title.append(i.text)\n",
    "job_title    "
   ]
  },
  {
   "cell_type": "code",
   "execution_count": 22,
   "id": "ed97c6fb",
   "metadata": {},
   "outputs": [
    {
     "data": {
      "text/plain": [
       "10"
      ]
     },
     "execution_count": 22,
     "metadata": {},
     "output_type": "execute_result"
    }
   ],
   "source": [
    "len(job_title) # find length of the scrap elements"
   ]
  },
  {
   "cell_type": "code",
   "execution_count": 23,
   "id": "2d60d3dc",
   "metadata": {},
   "outputs": [
    {
     "data": {
      "text/plain": [
       "['appsoft solutions',\n",
       " 'neo impex stainless private limited',\n",
       " 'mackenzie modern it solutions priva...',\n",
       " 'mackenzie modern it solutions priva...',\n",
       " 'valenta bpo solutions pvt. ltd.',\n",
       " 'r.s textile',\n",
       " 'r.s textile',\n",
       " 'talent leads hr solutions pvt ltd',\n",
       " 'techno endura',\n",
       " 'radhika enterprises']"
      ]
     },
     "execution_count": 23,
     "metadata": {},
     "output_type": "execute_result"
    }
   ],
   "source": [
    "com_name=driver.find_elements(By.XPATH,'//div[@class=\"jobCard_jobCard_cName__mYnow\"]/span')\n",
    "for i in com_name[0:10]:\n",
    "    company_name.append(i.text)\n",
    "company_name    "
   ]
  },
  {
   "cell_type": "code",
   "execution_count": 24,
   "id": "938c1b67",
   "metadata": {},
   "outputs": [
    {
     "data": {
      "text/plain": [
       "10"
      ]
     },
     "execution_count": 24,
     "metadata": {},
     "output_type": "execute_result"
    }
   ],
   "source": [
    "len(company_name)"
   ]
  },
  {
   "cell_type": "code",
   "execution_count": 25,
   "id": "2b1a58a5",
   "metadata": {},
   "outputs": [
    {
     "data": {
      "text/plain": [
       "['0 to 4 Yrs',\n",
       " '9 to 14 Yrs',\n",
       " '5 to 9 Yrs',\n",
       " '5 to 9 Yrs',\n",
       " '4 to 5 Yrs',\n",
       " '0 to 4 Yrs',\n",
       " '0 to 4 Yrs',\n",
       " '3 to 8 Yrs',\n",
       " '0 to 1 Yr',\n",
       " '0 to 4 Yrs']"
      ]
     },
     "execution_count": 25,
     "metadata": {},
     "output_type": "execute_result"
    }
   ],
   "source": [
    "exp=driver.find_elements(By.XPATH,'//div[@class=\" jobCard_jobCard_lists_item__YxRkV jobCard_jobIcon__3FB1t\"]')\n",
    "for i in exp[0:10]:\n",
    "    experience.append(i.text)\n",
    "experience    "
   ]
  },
  {
   "cell_type": "code",
   "execution_count": 26,
   "id": "843145aa",
   "metadata": {},
   "outputs": [
    {
     "data": {
      "text/plain": [
       "10"
      ]
     },
     "execution_count": 26,
     "metadata": {},
     "output_type": "execute_result"
    }
   ],
   "source": [
    "len(experience)"
   ]
  },
  {
   "cell_type": "code",
   "execution_count": 27,
   "id": "4d5db52d",
   "metadata": {},
   "outputs": [
    {
     "data": {
      "text/plain": [
       "['Bangalore\\n+8',\n",
       " 'Bangalore\\n+18',\n",
       " 'Bangalore\\n+8',\n",
       " 'Bangalore\\n+7',\n",
       " 'Bangalore',\n",
       " 'Bangalore\\n+9',\n",
       " 'Bangalore\\n+9',\n",
       " 'Bangalore',\n",
       " 'Bangalore\\n+6',\n",
       " 'Bangalore\\n+12']"
      ]
     },
     "execution_count": 27,
     "metadata": {},
     "output_type": "execute_result"
    }
   ],
   "source": [
    "loc=driver.find_elements(By.XPATH,'//div[@class=\" jobCard_jobCard_lists_item__YxRkV jobCard_locationIcon__zrWt2\"]')\n",
    "for i in loc[0:10]:\n",
    "    loca.append(i.text)\n",
    "loca    "
   ]
  },
  {
   "cell_type": "code",
   "execution_count": 28,
   "id": "3557bc25",
   "metadata": {},
   "outputs": [
    {
     "data": {
      "text/plain": [
       "10"
      ]
     },
     "execution_count": 28,
     "metadata": {},
     "output_type": "execute_result"
    }
   ],
   "source": [
    "len(loca)"
   ]
  },
  {
   "cell_type": "code",
   "execution_count": 29,
   "id": "ff99bffe",
   "metadata": {},
   "outputs": [
    {
     "data": {
      "text/html": [
       "<div>\n",
       "<style scoped>\n",
       "    .dataframe tbody tr th:only-of-type {\n",
       "        vertical-align: middle;\n",
       "    }\n",
       "\n",
       "    .dataframe tbody tr th {\n",
       "        vertical-align: top;\n",
       "    }\n",
       "\n",
       "    .dataframe thead th {\n",
       "        text-align: right;\n",
       "    }\n",
       "</style>\n",
       "<table border=\"1\" class=\"dataframe\">\n",
       "  <thead>\n",
       "    <tr style=\"text-align: right;\">\n",
       "      <th></th>\n",
       "      <th>Job Tile</th>\n",
       "      <th>Location</th>\n",
       "      <th>Company Name</th>\n",
       "      <th>Experience</th>\n",
       "    </tr>\n",
       "  </thead>\n",
       "  <tbody>\n",
       "    <tr>\n",
       "      <th>0</th>\n",
       "      <td>Data Analyst , Senior Data Analyst , Data Anal...</td>\n",
       "      <td>Bangalore\\n+8</td>\n",
       "      <td>appsoft solutions</td>\n",
       "      <td>0 to 4 Yrs</td>\n",
       "    </tr>\n",
       "    <tr>\n",
       "      <th>1</th>\n",
       "      <td>Data Analyst</td>\n",
       "      <td>Bangalore\\n+18</td>\n",
       "      <td>neo impex stainless private limited</td>\n",
       "      <td>9 to 14 Yrs</td>\n",
       "    </tr>\n",
       "    <tr>\n",
       "      <th>2</th>\n",
       "      <td>Lead Data Analyst</td>\n",
       "      <td>Bangalore\\n+8</td>\n",
       "      <td>mackenzie modern it solutions priva...</td>\n",
       "      <td>5 to 9 Yrs</td>\n",
       "    </tr>\n",
       "    <tr>\n",
       "      <th>3</th>\n",
       "      <td>Lead Data Analyst</td>\n",
       "      <td>Bangalore\\n+7</td>\n",
       "      <td>mackenzie modern it solutions priva...</td>\n",
       "      <td>5 to 9 Yrs</td>\n",
       "    </tr>\n",
       "    <tr>\n",
       "      <th>4</th>\n",
       "      <td>Data Analyst</td>\n",
       "      <td>Bangalore</td>\n",
       "      <td>valenta bpo solutions pvt. ltd.</td>\n",
       "      <td>4 to 5 Yrs</td>\n",
       "    </tr>\n",
       "    <tr>\n",
       "      <th>5</th>\n",
       "      <td>Data Analyst (Need Immediate Joiner)</td>\n",
       "      <td>Bangalore\\n+9</td>\n",
       "      <td>r.s textile</td>\n",
       "      <td>0 to 4 Yrs</td>\n",
       "    </tr>\n",
       "    <tr>\n",
       "      <th>6</th>\n",
       "      <td>Data Analyst (Need Immediate Joiner)</td>\n",
       "      <td>Bangalore\\n+9</td>\n",
       "      <td>r.s textile</td>\n",
       "      <td>0 to 4 Yrs</td>\n",
       "    </tr>\n",
       "    <tr>\n",
       "      <th>7</th>\n",
       "      <td>Data Analyst (Power BI, Python, SQL)- Internal...</td>\n",
       "      <td>Bangalore</td>\n",
       "      <td>talent leads hr solutions pvt ltd</td>\n",
       "      <td>3 to 8 Yrs</td>\n",
       "    </tr>\n",
       "    <tr>\n",
       "      <th>8</th>\n",
       "      <td>Clinical Data Analyst</td>\n",
       "      <td>Bangalore\\n+6</td>\n",
       "      <td>techno endura</td>\n",
       "      <td>0 to 1 Yr</td>\n",
       "    </tr>\n",
       "    <tr>\n",
       "      <th>9</th>\n",
       "      <td>Data Analyst Opening</td>\n",
       "      <td>Bangalore\\n+12</td>\n",
       "      <td>radhika enterprises</td>\n",
       "      <td>0 to 4 Yrs</td>\n",
       "    </tr>\n",
       "  </tbody>\n",
       "</table>\n",
       "</div>"
      ],
      "text/plain": [
       "                                            Job Tile        Location  \\\n",
       "0  Data Analyst , Senior Data Analyst , Data Anal...   Bangalore\\n+8   \n",
       "1                                       Data Analyst  Bangalore\\n+18   \n",
       "2                                  Lead Data Analyst   Bangalore\\n+8   \n",
       "3                                  Lead Data Analyst   Bangalore\\n+7   \n",
       "4                                       Data Analyst       Bangalore   \n",
       "5               Data Analyst (Need Immediate Joiner)   Bangalore\\n+9   \n",
       "6               Data Analyst (Need Immediate Joiner)   Bangalore\\n+9   \n",
       "7  Data Analyst (Power BI, Python, SQL)- Internal...       Bangalore   \n",
       "8                              Clinical Data Analyst   Bangalore\\n+6   \n",
       "9                               Data Analyst Opening  Bangalore\\n+12   \n",
       "\n",
       "                             Company Name   Experience  \n",
       "0                       appsoft solutions   0 to 4 Yrs  \n",
       "1     neo impex stainless private limited  9 to 14 Yrs  \n",
       "2  mackenzie modern it solutions priva...   5 to 9 Yrs  \n",
       "3  mackenzie modern it solutions priva...   5 to 9 Yrs  \n",
       "4         valenta bpo solutions pvt. ltd.   4 to 5 Yrs  \n",
       "5                             r.s textile   0 to 4 Yrs  \n",
       "6                             r.s textile   0 to 4 Yrs  \n",
       "7       talent leads hr solutions pvt ltd   3 to 8 Yrs  \n",
       "8                           techno endura    0 to 1 Yr  \n",
       "9                     radhika enterprises   0 to 4 Yrs  "
      ]
     },
     "execution_count": 29,
     "metadata": {},
     "output_type": "execute_result"
    }
   ],
   "source": [
    "# Save all scrap data into DataFrame or we can say in a structured format.\n",
    "\n",
    "data=pd.DataFrame({'Job Tile':job_title,'Location':loca,'Company Name':company_name,'Experience':experience})\n",
    "data"
   ]
  },
  {
   "cell_type": "code",
   "execution_count": null,
   "id": "18ec756a",
   "metadata": {},
   "outputs": [],
   "source": [
    "# Q2: Write a python program to scrape data for ““Data Scientist” Job position in “Bangalore” location.You have to scrape \n",
    "#        the job-title, job-location, company_name, experience_required. You have to scrape first 10 jobs data.\n",
    "# This task will be done in following steps:\n",
    "# 1. First get the webpage https://www.naukri.com/\n",
    "# 2. Enter “Data Analyst” in “Job title, Skills” field and enter “Bangalore” in “enter the location” field.\n",
    "# 3. Then click the searchbutton.\n",
    "# 4. Then scrape the data for the first 10 jobs results you get.\n",
    "# 5. Finally create a dataframe of the scraped data."
   ]
  },
  {
   "cell_type": "code",
   "execution_count": 30,
   "id": "6a3568b0",
   "metadata": {},
   "outputs": [],
   "source": [
    "import selenium\n",
    "import pandas as pd\n",
    "from selenium import webdriver\n",
    "from selenium.webdriver.common.by import By \n",
    "import time # it is used to pause any webpage for a particular time so that loading can be done seccessfully.\n",
    "import warnings\n",
    "warnings.filterwarnings('ignore')# it will ignore the unnecesary warnings"
   ]
  },
  {
   "cell_type": "code",
   "execution_count": 31,
   "id": "86fa3608",
   "metadata": {},
   "outputs": [],
   "source": [
    "# Interact with the browser\n",
    "driver=webdriver.Chrome()"
   ]
  },
  {
   "cell_type": "code",
   "execution_count": 32,
   "id": "694d4864",
   "metadata": {},
   "outputs": [],
   "source": [
    "# send request to the server that hosting webpage\n",
    "driver.get(\"https://www.naukri.com/\")"
   ]
  },
  {
   "cell_type": "code",
   "execution_count": 33,
   "id": "5b9e8d12",
   "metadata": {},
   "outputs": [],
   "source": [
    "# To scrap Job_Title\n",
    "designation=driver.find_element(By.CLASS_NAME,\"suggestor-input \")\n",
    "designation.send_keys('Data Scientist')"
   ]
  },
  {
   "cell_type": "code",
   "execution_count": 34,
   "id": "8718136b",
   "metadata": {},
   "outputs": [],
   "source": [
    "# To scrap the location\n",
    "location=driver.find_element(By.XPATH,\"/html/body/div[1]/div[7]/div/div/div[5]/div/div/div/div[1]/div/input\")\n",
    "location.send_keys('Bangalore')"
   ]
  },
  {
   "cell_type": "code",
   "execution_count": 35,
   "id": "fbe8a449",
   "metadata": {},
   "outputs": [],
   "source": [
    "# Click on search button\n",
    "clk_button=driver.find_element(By.CLASS_NAME,\"qsbSubmit\")\n",
    "clk_button.click()"
   ]
  },
  {
   "cell_type": "code",
   "execution_count": 36,
   "id": "794de24c",
   "metadata": {},
   "outputs": [],
   "source": [
    "# create empty list\n",
    "\n",
    "job_title=[]\n",
    "company_name=[]\n",
    "experience=[]\n",
    "loca=[]"
   ]
  },
  {
   "cell_type": "code",
   "execution_count": 37,
   "id": "cca41bcc",
   "metadata": {},
   "outputs": [
    {
     "data": {
      "text/plain": [
       "['Data Scientist, Marketing',\n",
       " 'Sr. Data Scientist',\n",
       " 'Data Scientist',\n",
       " 'Sr. Data Scientist',\n",
       " 'Data Scientist',\n",
       " 'Data Scientist-Senior Associate - P&T Labs',\n",
       " 'Data Scientist',\n",
       " 'Data Scientist',\n",
       " 'Data Scientist',\n",
       " 'Data Scientist - Senior Associate']"
      ]
     },
     "execution_count": 37,
     "metadata": {},
     "output_type": "execute_result"
    }
   ],
   "source": [
    "# Save all scrap data into list and show\n",
    "\n",
    "title_tags=driver.find_elements(By.XPATH,'//div[@class=\" row1\"]')\n",
    "for i in title_tags[0:10]:\n",
    "    job_title.append(i.text)\n",
    "job_title  "
   ]
  },
  {
   "cell_type": "code",
   "execution_count": 38,
   "id": "5a5c58b2",
   "metadata": {},
   "outputs": [
    {
     "data": {
      "text/plain": [
       "10"
      ]
     },
     "execution_count": 38,
     "metadata": {},
     "output_type": "execute_result"
    }
   ],
   "source": [
    "len(job_title)"
   ]
  },
  {
   "cell_type": "code",
   "execution_count": 39,
   "id": "6256bb1a",
   "metadata": {},
   "outputs": [
    {
     "data": {
      "text/plain": [
       "['Coursera',\n",
       " 'Essenware',\n",
       " 'Essenware',\n",
       " 'PwC Service Delivery Center',\n",
       " 'Infosys',\n",
       " 'Tech Mahindra',\n",
       " 'PwC Service Delivery Center',\n",
       " 'Lericon Informatics',\n",
       " 'Ericsson',\n",
       " 'Baker Hughes']"
      ]
     },
     "execution_count": 39,
     "metadata": {},
     "output_type": "execute_result"
    }
   ],
   "source": [
    "com_name=driver.find_elements(By.XPATH,'//div[@class=\" row2\"]/span/a[1]')\n",
    "for i in com_name[0:10]:\n",
    "    company_name.append(i.text)\n",
    "company_name"
   ]
  },
  {
   "cell_type": "code",
   "execution_count": 40,
   "id": "f60bcae2",
   "metadata": {},
   "outputs": [
    {
     "data": {
      "text/plain": [
       "10"
      ]
     },
     "execution_count": 40,
     "metadata": {},
     "output_type": "execute_result"
    }
   ],
   "source": [
    "len(company_name)"
   ]
  },
  {
   "cell_type": "code",
   "execution_count": 41,
   "id": "8232bcb3",
   "metadata": {},
   "outputs": [
    {
     "data": {
      "text/plain": [
       "['4-6 Yrs',\n",
       " '2-5 Yrs',\n",
       " '2-5 Yrs',\n",
       " '4-6 Yrs',\n",
       " '4-8 Yrs',\n",
       " '6-10 Yrs',\n",
       " '3-8 Yrs',\n",
       " '2-6 Yrs',\n",
       " '0-3 Yrs',\n",
       " '9-14 Yrs']"
      ]
     },
     "execution_count": 41,
     "metadata": {},
     "output_type": "execute_result"
    }
   ],
   "source": [
    "exp=driver.find_elements(By.XPATH,'//span[@class=\"expwdth\"]')\n",
    "for i in exp[0:10]:\n",
    "    experience.append(i.text)\n",
    "experience    "
   ]
  },
  {
   "cell_type": "code",
   "execution_count": 42,
   "id": "0ed91d57",
   "metadata": {},
   "outputs": [
    {
     "data": {
      "text/plain": [
       "10"
      ]
     },
     "execution_count": 42,
     "metadata": {},
     "output_type": "execute_result"
    }
   ],
   "source": [
    "len(experience)"
   ]
  },
  {
   "cell_type": "code",
   "execution_count": 43,
   "id": "f62c8f4a",
   "metadata": {},
   "outputs": [
    {
     "data": {
      "text/plain": [
       "['Bangalore/Bengaluru, Kolkata, Mumbai, New Delhi, Hyderabad/Secunderabad, Pune, Chennai',\n",
       " 'Kolkata, Mumbai, New Delhi, Hyderabad, Pune, Chennai, Bengaluru',\n",
       " 'Kolkata, Mumbai, New Delhi, Hyderabad, Pune, Chennai, Bengaluru',\n",
       " 'Mumbai, Hyderabad, Bengaluru',\n",
       " 'Hybrid - Hyderabad, Pune, Bengaluru',\n",
       " 'Hybrid - Hyderabad, Pune, Bengaluru',\n",
       " 'Mumbai, Hyderabad, Bengaluru',\n",
       " 'Mumbai, Bengaluru, Delhi / NCR',\n",
       " 'Bengaluru',\n",
       " 'Bengaluru']"
      ]
     },
     "execution_count": 43,
     "metadata": {},
     "output_type": "execute_result"
    }
   ],
   "source": [
    "loc=driver.find_elements(By.XPATH,'//span[@class=\"locWdth\"]')\n",
    "for i in loc[0:10]:\n",
    "    loca.append(i.text)\n",
    "loca    "
   ]
  },
  {
   "cell_type": "code",
   "execution_count": 44,
   "id": "4c62537f",
   "metadata": {},
   "outputs": [
    {
     "data": {
      "text/plain": [
       "10"
      ]
     },
     "execution_count": 44,
     "metadata": {},
     "output_type": "execute_result"
    }
   ],
   "source": [
    "len(loca)"
   ]
  },
  {
   "cell_type": "code",
   "execution_count": 45,
   "id": "955bbb2b",
   "metadata": {},
   "outputs": [
    {
     "data": {
      "text/html": [
       "<div>\n",
       "<style scoped>\n",
       "    .dataframe tbody tr th:only-of-type {\n",
       "        vertical-align: middle;\n",
       "    }\n",
       "\n",
       "    .dataframe tbody tr th {\n",
       "        vertical-align: top;\n",
       "    }\n",
       "\n",
       "    .dataframe thead th {\n",
       "        text-align: right;\n",
       "    }\n",
       "</style>\n",
       "<table border=\"1\" class=\"dataframe\">\n",
       "  <thead>\n",
       "    <tr style=\"text-align: right;\">\n",
       "      <th></th>\n",
       "      <th>Job Tile</th>\n",
       "      <th>Location</th>\n",
       "      <th>Company Name</th>\n",
       "      <th>Experience</th>\n",
       "    </tr>\n",
       "  </thead>\n",
       "  <tbody>\n",
       "    <tr>\n",
       "      <th>0</th>\n",
       "      <td>Data Scientist, Marketing</td>\n",
       "      <td>Bangalore/Bengaluru, Kolkata, Mumbai, New Delh...</td>\n",
       "      <td>Coursera</td>\n",
       "      <td>4-6 Yrs</td>\n",
       "    </tr>\n",
       "    <tr>\n",
       "      <th>1</th>\n",
       "      <td>Sr. Data Scientist</td>\n",
       "      <td>Kolkata, Mumbai, New Delhi, Hyderabad, Pune, C...</td>\n",
       "      <td>Essenware</td>\n",
       "      <td>2-5 Yrs</td>\n",
       "    </tr>\n",
       "    <tr>\n",
       "      <th>2</th>\n",
       "      <td>Data Scientist</td>\n",
       "      <td>Kolkata, Mumbai, New Delhi, Hyderabad, Pune, C...</td>\n",
       "      <td>Essenware</td>\n",
       "      <td>2-5 Yrs</td>\n",
       "    </tr>\n",
       "    <tr>\n",
       "      <th>3</th>\n",
       "      <td>Sr. Data Scientist</td>\n",
       "      <td>Mumbai, Hyderabad, Bengaluru</td>\n",
       "      <td>PwC Service Delivery Center</td>\n",
       "      <td>4-6 Yrs</td>\n",
       "    </tr>\n",
       "    <tr>\n",
       "      <th>4</th>\n",
       "      <td>Data Scientist</td>\n",
       "      <td>Hybrid - Hyderabad, Pune, Bengaluru</td>\n",
       "      <td>Infosys</td>\n",
       "      <td>4-8 Yrs</td>\n",
       "    </tr>\n",
       "    <tr>\n",
       "      <th>5</th>\n",
       "      <td>Data Scientist-Senior Associate - P&amp;T Labs</td>\n",
       "      <td>Hybrid - Hyderabad, Pune, Bengaluru</td>\n",
       "      <td>Tech Mahindra</td>\n",
       "      <td>6-10 Yrs</td>\n",
       "    </tr>\n",
       "    <tr>\n",
       "      <th>6</th>\n",
       "      <td>Data Scientist</td>\n",
       "      <td>Mumbai, Hyderabad, Bengaluru</td>\n",
       "      <td>PwC Service Delivery Center</td>\n",
       "      <td>3-8 Yrs</td>\n",
       "    </tr>\n",
       "    <tr>\n",
       "      <th>7</th>\n",
       "      <td>Data Scientist</td>\n",
       "      <td>Mumbai, Bengaluru, Delhi / NCR</td>\n",
       "      <td>Lericon Informatics</td>\n",
       "      <td>2-6 Yrs</td>\n",
       "    </tr>\n",
       "    <tr>\n",
       "      <th>8</th>\n",
       "      <td>Data Scientist</td>\n",
       "      <td>Bengaluru</td>\n",
       "      <td>Ericsson</td>\n",
       "      <td>0-3 Yrs</td>\n",
       "    </tr>\n",
       "    <tr>\n",
       "      <th>9</th>\n",
       "      <td>Data Scientist - Senior Associate</td>\n",
       "      <td>Bengaluru</td>\n",
       "      <td>Baker Hughes</td>\n",
       "      <td>9-14 Yrs</td>\n",
       "    </tr>\n",
       "  </tbody>\n",
       "</table>\n",
       "</div>"
      ],
      "text/plain": [
       "                                     Job Tile  \\\n",
       "0                   Data Scientist, Marketing   \n",
       "1                          Sr. Data Scientist   \n",
       "2                              Data Scientist   \n",
       "3                          Sr. Data Scientist   \n",
       "4                              Data Scientist   \n",
       "5  Data Scientist-Senior Associate - P&T Labs   \n",
       "6                              Data Scientist   \n",
       "7                              Data Scientist   \n",
       "8                              Data Scientist   \n",
       "9           Data Scientist - Senior Associate   \n",
       "\n",
       "                                            Location  \\\n",
       "0  Bangalore/Bengaluru, Kolkata, Mumbai, New Delh...   \n",
       "1  Kolkata, Mumbai, New Delhi, Hyderabad, Pune, C...   \n",
       "2  Kolkata, Mumbai, New Delhi, Hyderabad, Pune, C...   \n",
       "3                       Mumbai, Hyderabad, Bengaluru   \n",
       "4                Hybrid - Hyderabad, Pune, Bengaluru   \n",
       "5                Hybrid - Hyderabad, Pune, Bengaluru   \n",
       "6                       Mumbai, Hyderabad, Bengaluru   \n",
       "7                     Mumbai, Bengaluru, Delhi / NCR   \n",
       "8                                          Bengaluru   \n",
       "9                                          Bengaluru   \n",
       "\n",
       "                  Company Name Experience  \n",
       "0                     Coursera    4-6 Yrs  \n",
       "1                    Essenware    2-5 Yrs  \n",
       "2                    Essenware    2-5 Yrs  \n",
       "3  PwC Service Delivery Center    4-6 Yrs  \n",
       "4                      Infosys    4-8 Yrs  \n",
       "5                Tech Mahindra   6-10 Yrs  \n",
       "6  PwC Service Delivery Center    3-8 Yrs  \n",
       "7          Lericon Informatics    2-6 Yrs  \n",
       "8                     Ericsson    0-3 Yrs  \n",
       "9                 Baker Hughes   9-14 Yrs  "
      ]
     },
     "execution_count": 45,
     "metadata": {},
     "output_type": "execute_result"
    }
   ],
   "source": [
    "data=pd.DataFrame({'Job Tile':job_title,'Location':loca,'Company Name':company_name,'Experience':experience})\n",
    "data"
   ]
  },
  {
   "cell_type": "code",
   "execution_count": null,
   "id": "2198d0c2",
   "metadata": {},
   "outputs": [],
   "source": [
    "# Q3. Scrape data of first 100 sunglasses listings on flipkart.com. You have to scrape four attributes:\n",
    "# 1. Brand\n",
    "# 2. ProductDescription\n",
    "# 3. Price\n",
    "# The attributes which you have to scrape is ticked marked in the below image.\n",
    "\n",
    "#To scrape the data you have to go through following steps:\n",
    "\n",
    "# 1. Go to Flipkart webpage by url : https://www.flipkart.com/\n",
    "# 2. Enter “sunglasses” in the search fieldwhere “search for products, brands and more” is written and click the search icon\n",
    "# 3. After that you will reach to the page having a lot of sunglasses. From this page you can scrap the required data as usual.\n",
    "# 4. After scraping data from the first page, go to the “Next” Button at the bottom other page , then click on it.\n",
    "# 5. Now scrape data from this page as usual\n",
    "# 6. Repeat this until you get data for 100sunglasses. Note: That all of the above steps have to be done by coding only and not\n",
    "#   manually."
   ]
  },
  {
   "cell_type": "code",
   "execution_count": 2,
   "id": "e1c4ce7f",
   "metadata": {},
   "outputs": [],
   "source": [
    "driver=webdriver.Chrome()"
   ]
  },
  {
   "cell_type": "code",
   "execution_count": 3,
   "id": "b229f4b1",
   "metadata": {},
   "outputs": [],
   "source": [
    "driver.get(\"https://www.flipkart.com/\")"
   ]
  },
  {
   "cell_type": "code",
   "execution_count": 4,
   "id": "f5dd701e",
   "metadata": {},
   "outputs": [],
   "source": [
    "designation=driver.find_element(By.CLASS_NAME,\"Pke_EE\")\n",
    "designation.send_keys('sunglasses')"
   ]
  },
  {
   "cell_type": "code",
   "execution_count": 5,
   "id": "f832f046",
   "metadata": {},
   "outputs": [],
   "source": [
    "clk_button=driver.find_element(By.CLASS_NAME,\"MJG8Up\")\n",
    "clk_button.click()"
   ]
  },
  {
   "cell_type": "code",
   "execution_count": 6,
   "id": "0bbdefab",
   "metadata": {},
   "outputs": [],
   "source": [
    "# create empty list\n",
    "\n",
    "brand=[]\n",
    "product_description=[]\n",
    "price=[]"
   ]
  },
  {
   "cell_type": "code",
   "execution_count": 7,
   "id": "8c3cba5b",
   "metadata": {},
   "outputs": [
    {
     "data": {
      "text/plain": [
       "['Being Better',\n",
       " 'VINCENT CHASE',\n",
       " 'Fastrack',\n",
       " 'ROADWAY',\n",
       " 'VINCENT CHASE',\n",
       " 'Fastrack',\n",
       " 'Fastrack',\n",
       " 'Eyenaks',\n",
       " 'VINCENT CHASE',\n",
       " 'ROZZETTA CRAFT',\n",
       " 'VINCENT CHASE',\n",
       " 'hipe',\n",
       " 'PIRASO',\n",
       " 'hayden haiza',\n",
       " 'Rich Club',\n",
       " 'Fastrack',\n",
       " 'ROYAL SON',\n",
       " 'ROYAL SON',\n",
       " 'hayden haiza',\n",
       " 'Fastrack',\n",
       " 'ROYAL SON',\n",
       " 'IDEE',\n",
       " 'Fastrack',\n",
       " 'ROADWAY',\n",
       " 'ROADWAY',\n",
       " 'ROZZETTA CRAFT',\n",
       " 'ROYAL SON',\n",
       " 'ROYAL SON',\n",
       " 'VINCENT CHASE',\n",
       " 'hayden haiza',\n",
       " 'ROYAL SON',\n",
       " 'ROYAL SON',\n",
       " 'ROYAL SON',\n",
       " 'VINCENT CHASE',\n",
       " 'Fastrack',\n",
       " 'PC STAR',\n",
       " 'AISLIN',\n",
       " 'ROZZETTA CRAFT',\n",
       " 'VINCENT CHASE',\n",
       " 'Fastrack',\n",
       " 'ROYAL SON',\n",
       " 'AISLIN',\n",
       " 'VINCENT CHASE',\n",
       " 'hayden haiza',\n",
       " 'HRX by Hrithik Roshan',\n",
       " 'sefton',\n",
       " 'VINCENT CHASE',\n",
       " 'ROYAL SON',\n",
       " 'Rich Club',\n",
       " 'VINCENT CHASE',\n",
       " 'ROZZETTA CRAFT',\n",
       " 'ROYAL SON',\n",
       " 'GANSTA',\n",
       " 'Dervin',\n",
       " 'Roadster',\n",
       " 'PIRASO',\n",
       " 'Eyewearlabs',\n",
       " 'ROYAL SON',\n",
       " 'ROYAL SON',\n",
       " 'Fastrack',\n",
       " 'ROYAL SON',\n",
       " 'ROYAL SON',\n",
       " 'HATin',\n",
       " 'hayden haiza',\n",
       " 'VINCENT CHASE',\n",
       " 'Eyenaks',\n",
       " 'Eyenaks',\n",
       " 'NuVew',\n",
       " 'VINCENT CHASE',\n",
       " 'ROYAL SON',\n",
       " 'AISLIN',\n",
       " 'ROYAL SON',\n",
       " 'VINCENT CHASE',\n",
       " 'VINCENT CHASE',\n",
       " 'PC STAR',\n",
       " 'Singco India',\n",
       " 'ROYAL SON',\n",
       " 'Lenskart STUDIO',\n",
       " 'VINCENT CHASE',\n",
       " 'Rich Club',\n",
       " 'RESIST EYEWEAR',\n",
       " 'AISLIN',\n",
       " 'IDEE',\n",
       " 'IDEE',\n",
       " 'hayden haiza',\n",
       " 'Ray-Ban',\n",
       " 'ROYAL SON',\n",
       " 'ROYAL SON',\n",
       " 'IDEE',\n",
       " 'AISLIN',\n",
       " 'ROYAL SON',\n",
       " 'RESIST EYEWEAR',\n",
       " 'AISLIN',\n",
       " 'OJOS',\n",
       " 'IDEE',\n",
       " 'ROYAL SON',\n",
       " 'ROYAL SON',\n",
       " 'AISLIN',\n",
       " 'john jacobs',\n",
       " 'ROADWAY',\n",
       " 'AISLIN',\n",
       " 'ROYAL SON',\n",
       " 'hipe',\n",
       " 'AISLIN',\n",
       " 'VINCENT CHASE',\n",
       " 'POLICE',\n",
       " 'AISLIN',\n",
       " 'ROYAL SON',\n",
       " 'NuVew',\n",
       " 'AISLIN',\n",
       " 'Dressberry',\n",
       " 'VINCENT CHASE',\n",
       " 'AISLIN',\n",
       " 'Ray-Ban',\n",
       " 'Hooper',\n",
       " 'NuVew',\n",
       " 'IRUS',\n",
       " 'IRUS',\n",
       " 'AISLIN',\n",
       " 'john jacobs']"
      ]
     },
     "execution_count": 7,
     "metadata": {},
     "output_type": "execute_result"
    }
   ],
   "source": [
    "start=0 # Starting Page\n",
    "end=3 # end page\n",
    "for i in range(start,end): # loop will execute till 3 page\n",
    "    brand_name=driver.find_elements(By.XPATH,'//div[@class=\"syl9yP\"]')\n",
    "    for i in brand_name:\n",
    "        brand.append(i.text)\n",
    "    next_button=driver.find_element(By.XPATH,\"/html/body/div/div/div[3]/div[1]/div[2]/div[12]/div/div/nav/a[11]\")\n",
    "    next_button.click()\n",
    "    time.sleep(3)\n",
    "brand  "
   ]
  },
  {
   "cell_type": "code",
   "execution_count": 8,
   "id": "1c43ce3d",
   "metadata": {},
   "outputs": [
    {
     "data": {
      "text/plain": [
       "120"
      ]
     },
     "execution_count": 8,
     "metadata": {},
     "output_type": "execute_result"
    }
   ],
   "source": [
    "len(brand)"
   ]
  },
  {
   "cell_type": "code",
   "execution_count": 9,
   "id": "072218aa",
   "metadata": {},
   "outputs": [
    {
     "data": {
      "text/plain": [
       "['UV Protection, Gradient Wayfarer, Wrap-around Sunglasse...',\n",
       " 'Polarized, UV Protection Aviator Sunglasses (56)',\n",
       " 'Polarized, UV Protection, Gradient Butterfly, Round Sun...',\n",
       " 'Polarized, UV Protection Wayfarer Sunglasses (46)',\n",
       " 'UV Protection, Gradient Rectangular, Retro Square Sungl...',\n",
       " 'UV Protection Wayfarer Sunglasses (64)',\n",
       " 'UV Protection, Mirrored Sports Sunglasses (62)',\n",
       " 'UV Protection, Gradient Round Sunglasses (58)',\n",
       " 'Polarized, UV Protection Wayfarer Sunglasses (50)',\n",
       " 'Gradient Retro Square Sunglasses (55)',\n",
       " 'Polarized, UV Protection Aviator Sunglasses (58)',\n",
       " 'Gradient Oval Sunglasses (56)',\n",
       " 'Polarized, Riding Glasses, Night Vision Sports Sunglass...',\n",
       " 'UV Protection Sports Sunglasses (62)',\n",
       " 'UV Protection Retro Square Sunglasses (60)',\n",
       " 'UV Protection, Gradient Over-sized Sunglasses (63)',\n",
       " 'Toughened Glass Lens, UV Protection Aviator Sunglasses ...',\n",
       " 'UV Protection, Gradient Wayfarer, Retro Square Sunglass...',\n",
       " 'UV Protection, Gradient Butterfly, Over-sized Sunglasse...',\n",
       " 'UV Protection, Gradient Wayfarer Sunglasses (56)',\n",
       " 'Gradient Spectacle Sunglasses (52)',\n",
       " 'Gradient Aviator Sunglasses (60)',\n",
       " 'Polarized, UV Protection Rectangular Sunglasses (53)',\n",
       " 'UV Protection Shield Sunglasses (51)',\n",
       " 'Gradient Rectangular Sunglasses (60)',\n",
       " 'UV Protection, Gradient Wayfarer, Retro Square Sunglass...',\n",
       " 'Polarized, UV Protection Aviator Sunglasses (56)',\n",
       " 'Gradient Retro Square Sunglasses (55)',\n",
       " 'Gradient Retro Square Sunglasses (58)',\n",
       " 'UV Protection Wayfarer Sunglasses (57)',\n",
       " 'UV Protection Oval, Aviator Sunglasses (57)',\n",
       " 'Gradient Butterfly Sunglasses (59)',\n",
       " 'UV Protection Clubmaster Sunglasses (56)',\n",
       " 'UV Protection Butterfly Sunglasses (61)',\n",
       " 'UV Protection Round, Over-sized Sunglasses (Free Size)',\n",
       " 'UV Protection, Polarized Wrap-around, Sports Sunglasses...',\n",
       " 'Gradient Wayfarer Sunglasses (55)',\n",
       " 'Gradient Butterfly Sunglasses (61)',\n",
       " 'Gradient Retro Square Sunglasses (56)',\n",
       " 'UV Protection Round Sunglasses (54)',\n",
       " 'UV Protection Spectacle Sunglasses (Free Size)',\n",
       " 'Polarized Rectangular Sunglasses (58)',\n",
       " 'Polarized, UV Protection Rectangular Sunglasses (54)',\n",
       " 'Gradient Retro Square Sunglasses (56)',\n",
       " 'by Lenskart Polarized, UV Protection Round Sunglasses (...',\n",
       " 'Polarized Aviator Sunglasses (62)',\n",
       " 'Toughened Glass Lens, UV Protection Aviator, Wrap-aroun...',\n",
       " 'Others Butterfly Sunglasses (56)',\n",
       " 'Gradient Retro Square Sunglasses (57)',\n",
       " 'by Lenskart Polarized, UV Protection Rectangular Sungla...',\n",
       " 'Gradient Rectangular Sunglasses (60)',\n",
       " 'UV Protection Round Sunglasses (52)',\n",
       " 'UV Protection Over-sized Sunglasses (53)',\n",
       " 'UV Protection Aviator Sunglasses (58)',\n",
       " 'Toughened Glass Lens, UV Protection Aviator Sunglasses ...',\n",
       " 'UV Protection, Gradient, Night Vision, Polarized, Ridin...',\n",
       " 'Gradient Aviator Sunglasses (57)',\n",
       " 'UV Protection Round Sunglasses (57)',\n",
       " 'UV Protection Round Sunglasses (Free Size)',\n",
       " 'Gradient, UV Protection Retro Square Sunglasses (58)',\n",
       " 'UV Protection Oval, Aviator Sunglasses (60)',\n",
       " 'Gradient Rectangular Sunglasses (53)',\n",
       " 'UV Protection Retro Square Sunglasses (Free Size)',\n",
       " 'UV Protection Rectangular, Retro Square Sunglasses (58)',\n",
       " 'UV Protection, Mirrored, Gradient Aviator Sunglasses (5...',\n",
       " 'UV Protection, Gradient Butterfly Sunglasses (62)',\n",
       " 'by Lenskart UV Protection, Polarized Round Sunglasses (...',\n",
       " 'by Lenskart Polarized, UV Protection Wayfarer Sunglasse...',\n",
       " 'Riding Glasses Sports Sunglasses (54)',\n",
       " 'UV Protection Aviator Sunglasses (59)',\n",
       " 'Gradient Wayfarer Sunglasses (57)',\n",
       " 'by Lenskart Polarized, UV Protection Sports Sunglasses ...',\n",
       " 'by Lenskart UV Protection Rectangular Sunglasses (56)',\n",
       " 'UV Protection, Gradient Retro Square, Over-sized Sungla...',\n",
       " 'Gradient Retro Square Sunglasses (55)',\n",
       " 'Gradient Retro Square Sunglasses (57)',\n",
       " 'Gradient Retro Square Sunglasses (57)',\n",
       " 'Gradient Retro Square Sunglasses (56)',\n",
       " 'Polarized, UV Protection Wayfarer Sunglasses (48)',\n",
       " 'UV Protection Sports, Wrap-around Sunglasses (59)',\n",
       " 'Polarized, UV Protection Cat-eye Sunglasses (49)',\n",
       " 'by Lenskart Polarized, UV Protection Rectangular Sungla...',\n",
       " 'UV Protection Retro Square, Wayfarer Sunglasses (56)',\n",
       " 'Polarized, UV Protection Aviator Sunglasses (54)',\n",
       " 'UV Protection Wayfarer Sunglasses (61)',\n",
       " 'Gradient Aviator Sunglasses (57)',\n",
       " 'Gradient Retro Square Sunglasses (55)',\n",
       " 'Gradient Retro Square Sunglasses (57)',\n",
       " 'UV Protection, Mirrored Over-sized Sunglasses (62)',\n",
       " 'by Lenskart Polarized, UV Protection Round Sunglasses (...',\n",
       " 'UV Protection Retro Square Sunglasses (50)',\n",
       " 'Gradient Retro Square Sunglasses (56)',\n",
       " 'UV Protection, Gradient Butterfly, Over-sized Sunglasse...',\n",
       " 'by Lenskart Polarized, UV Protection Cat-eye Sunglasses...',\n",
       " 'UV Protection, Gradient Over-sized Sunglasses (58)',\n",
       " 'Polarized, UV Protection Wayfarer, Round Sunglasses (58...',\n",
       " 'Gradient Butterfly Sunglasses (53)',\n",
       " 'UV Protection Wayfarer Sunglasses (53)',\n",
       " 'Gradient Round Sunglasses (51)',\n",
       " 'UV Protection Aviator Sunglasses (59)',\n",
       " 'by Lenskart Polarized, UV Protection Cat-eye Sunglasses...',\n",
       " 'UV Protection Wayfarer Sunglasses (49)',\n",
       " 'UV Protection Oval Sunglasses (54)',\n",
       " 'Polarized, UV Protection, Mirrored Round, Oval Sunglass...',\n",
       " 'UV Protection Round, Over-sized Sunglasses (Free Size)',\n",
       " 'UV Protection, Riding Glasses, Mirrored, Night Vision, ...',\n",
       " 'Gradient Round Sunglasses (56)',\n",
       " 'Gradient Cat-eye Sunglasses (53)',\n",
       " 'Gradient Oval Sunglasses (52)',\n",
       " 'Gradient Retro Square Sunglasses (55)',\n",
       " 'by Lenskart Polarized, UV Protection Cat-eye Sunglasses...',\n",
       " 'Polarized, UV Protection Retro Square Sunglasses (50)',\n",
       " 'Polarized, UV Protection, Gradient Round, Aviator Sungl...',\n",
       " 'Polarized, UV Protection Aviator Sunglasses (56)',\n",
       " 'Gradient Retro Square Sunglasses (62)',\n",
       " 'Polarized, UV Protection Wayfarer Sunglasses (48)',\n",
       " 'Polarized, UV Protection Rectangular Sunglasses (55)',\n",
       " 'Gradient Oval Sunglasses (56)',\n",
       " 'UV Protection Wayfarer Sunglasses (46)',\n",
       " 'Riding Glasses, UV Protection, Night Vision, Polarized,...']"
      ]
     },
     "execution_count": 9,
     "metadata": {},
     "output_type": "execute_result"
    }
   ],
   "source": [
    "start=0 \n",
    "end=3\n",
    "for i in range(start,end): # loop will execute till 3 page\n",
    "    product_des=driver.find_elements(By.XPATH,'//div[@class=\"hCKiGj\"]/a[1]')\n",
    "    for i in product_des:\n",
    "        product_description.append(i.text)\n",
    "    next_button=driver.find_element(By.XPATH,\"/html/body/div/div/div[3]/div[1]/div[2]/div[12]/div/div/nav/a[11]\")\n",
    "    next_button.click()\n",
    "    time.sleep(3)\n",
    "product_description   "
   ]
  },
  {
   "cell_type": "code",
   "execution_count": 10,
   "id": "7763b837",
   "metadata": {},
   "outputs": [
    {
     "data": {
      "text/plain": [
       "120"
      ]
     },
     "execution_count": 10,
     "metadata": {},
     "output_type": "execute_result"
    }
   ],
   "source": [
    "len(product_description)"
   ]
  },
  {
   "cell_type": "code",
   "execution_count": 11,
   "id": "fe9de0e3",
   "metadata": {},
   "outputs": [
    {
     "data": {
      "text/plain": [
       "['₹3,149',\n",
       " '₹1,039',\n",
       " '₹613',\n",
       " '₹1,228',\n",
       " '₹344',\n",
       " '₹2,835',\n",
       " '₹2,506',\n",
       " '₹3,185',\n",
       " '₹775',\n",
       " '₹499',\n",
       " '₹2,086',\n",
       " '₹2,436',\n",
       " '₹583',\n",
       " '₹944',\n",
       " '₹698',\n",
       " '₹769',\n",
       " '₹2,506',\n",
       " '₹3,625',\n",
       " '₹2,653',\n",
       " '₹845',\n",
       " '₹1,039',\n",
       " '₹4,445',\n",
       " '₹665',\n",
       " '₹485',\n",
       " '₹649',\n",
       " '₹268',\n",
       " '₹2,506',\n",
       " '₹4,175',\n",
       " '₹2,765',\n",
       " '₹2,436',\n",
       " '₹854',\n",
       " '₹1,619',\n",
       " '₹799',\n",
       " '₹765',\n",
       " '₹2,765',\n",
       " '₹629',\n",
       " '₹2,099',\n",
       " '₹2,086',\n",
       " '₹1,833',\n",
       " '₹322',\n",
       " '₹3,149',\n",
       " '₹1,039',\n",
       " '₹613',\n",
       " '₹1,228',\n",
       " '₹344',\n",
       " '₹2,835',\n",
       " '₹2,506',\n",
       " '₹3,185',\n",
       " '₹775',\n",
       " '₹499',\n",
       " '₹2,086',\n",
       " '₹2,436',\n",
       " '₹583',\n",
       " '₹944',\n",
       " '₹698',\n",
       " '₹769',\n",
       " '₹2,506',\n",
       " '₹3,625',\n",
       " '₹2,653',\n",
       " '₹845',\n",
       " '₹1,039',\n",
       " '₹4,445',\n",
       " '₹665',\n",
       " '₹485',\n",
       " '₹649',\n",
       " '₹268',\n",
       " '₹2,506',\n",
       " '₹4,175',\n",
       " '₹2,765',\n",
       " '₹2,436',\n",
       " '₹854',\n",
       " '₹1,619',\n",
       " '₹799',\n",
       " '₹765',\n",
       " '₹2,765',\n",
       " '₹629',\n",
       " '₹2,099',\n",
       " '₹2,086',\n",
       " '₹1,833',\n",
       " '₹322',\n",
       " '₹3,149',\n",
       " '₹1,039',\n",
       " '₹613',\n",
       " '₹1,228',\n",
       " '₹344',\n",
       " '₹2,835',\n",
       " '₹2,506',\n",
       " '₹3,185',\n",
       " '₹775',\n",
       " '₹499',\n",
       " '₹2,086',\n",
       " '₹2,436',\n",
       " '₹583',\n",
       " '₹944',\n",
       " '₹698',\n",
       " '₹769',\n",
       " '₹2,506',\n",
       " '₹3,625',\n",
       " '₹2,653',\n",
       " '₹845',\n",
       " '₹1,039',\n",
       " '₹4,445',\n",
       " '₹665',\n",
       " '₹485',\n",
       " '₹649',\n",
       " '₹268',\n",
       " '₹2,506',\n",
       " '₹4,175',\n",
       " '₹2,765',\n",
       " '₹2,436',\n",
       " '₹854',\n",
       " '₹1,619',\n",
       " '₹799',\n",
       " '₹765',\n",
       " '₹2,765',\n",
       " '₹629',\n",
       " '₹2,099',\n",
       " '₹2,086',\n",
       " '₹1,833',\n",
       " '₹322']"
      ]
     },
     "execution_count": 11,
     "metadata": {},
     "output_type": "execute_result"
    }
   ],
   "source": [
    "start=0 # Starting Page\n",
    "end=3 # end page\n",
    "for i in range(start,end): # loop will execute till 3 page\n",
    "    pri=driver.find_elements(By.XPATH,'//a[@class=\"+tlBoD\"]/div[1]/div[1]')\n",
    "    for i in pri:\n",
    "        price.append(i.text)\n",
    "    next_button=driver.find_element(By.XPATH,\"/html/body/div/div/div[3]/div[1]/div[2]/div[12]/div/div/nav/a[11]\")\n",
    "    next_button.click()\n",
    "    time.sleep(3)\n",
    "price   "
   ]
  },
  {
   "cell_type": "code",
   "execution_count": 12,
   "id": "5ff4886b",
   "metadata": {},
   "outputs": [
    {
     "data": {
      "text/plain": [
       "120"
      ]
     },
     "execution_count": 12,
     "metadata": {},
     "output_type": "execute_result"
    }
   ],
   "source": [
    "len(price)"
   ]
  },
  {
   "cell_type": "code",
   "execution_count": 13,
   "id": "cad4b4f1",
   "metadata": {},
   "outputs": [
    {
     "data": {
      "text/html": [
       "<div>\n",
       "<style scoped>\n",
       "    .dataframe tbody tr th:only-of-type {\n",
       "        vertical-align: middle;\n",
       "    }\n",
       "\n",
       "    .dataframe tbody tr th {\n",
       "        vertical-align: top;\n",
       "    }\n",
       "\n",
       "    .dataframe thead th {\n",
       "        text-align: right;\n",
       "    }\n",
       "</style>\n",
       "<table border=\"1\" class=\"dataframe\">\n",
       "  <thead>\n",
       "    <tr style=\"text-align: right;\">\n",
       "      <th></th>\n",
       "      <th>Btand</th>\n",
       "      <th>Product_Description</th>\n",
       "      <th>Price</th>\n",
       "    </tr>\n",
       "  </thead>\n",
       "  <tbody>\n",
       "    <tr>\n",
       "      <th>0</th>\n",
       "      <td>Being Better</td>\n",
       "      <td>UV Protection, Gradient Wayfarer, Wrap-around ...</td>\n",
       "      <td>₹3,149</td>\n",
       "    </tr>\n",
       "    <tr>\n",
       "      <th>1</th>\n",
       "      <td>VINCENT CHASE</td>\n",
       "      <td>Polarized, UV Protection Aviator Sunglasses (56)</td>\n",
       "      <td>₹1,039</td>\n",
       "    </tr>\n",
       "    <tr>\n",
       "      <th>2</th>\n",
       "      <td>Fastrack</td>\n",
       "      <td>Polarized, UV Protection, Gradient Butterfly, ...</td>\n",
       "      <td>₹613</td>\n",
       "    </tr>\n",
       "    <tr>\n",
       "      <th>3</th>\n",
       "      <td>ROADWAY</td>\n",
       "      <td>Polarized, UV Protection Wayfarer Sunglasses (46)</td>\n",
       "      <td>₹1,228</td>\n",
       "    </tr>\n",
       "    <tr>\n",
       "      <th>4</th>\n",
       "      <td>VINCENT CHASE</td>\n",
       "      <td>UV Protection, Gradient Rectangular, Retro Squ...</td>\n",
       "      <td>₹344</td>\n",
       "    </tr>\n",
       "    <tr>\n",
       "      <th>...</th>\n",
       "      <td>...</td>\n",
       "      <td>...</td>\n",
       "      <td>...</td>\n",
       "    </tr>\n",
       "    <tr>\n",
       "      <th>95</th>\n",
       "      <td>ROYAL SON</td>\n",
       "      <td>Polarized, UV Protection Wayfarer, Round Sungl...</td>\n",
       "      <td>₹769</td>\n",
       "    </tr>\n",
       "    <tr>\n",
       "      <th>96</th>\n",
       "      <td>ROYAL SON</td>\n",
       "      <td>Gradient Butterfly Sunglasses (53)</td>\n",
       "      <td>₹2,506</td>\n",
       "    </tr>\n",
       "    <tr>\n",
       "      <th>97</th>\n",
       "      <td>AISLIN</td>\n",
       "      <td>UV Protection Wayfarer Sunglasses (53)</td>\n",
       "      <td>₹3,625</td>\n",
       "    </tr>\n",
       "    <tr>\n",
       "      <th>98</th>\n",
       "      <td>john jacobs</td>\n",
       "      <td>Gradient Round Sunglasses (51)</td>\n",
       "      <td>₹2,653</td>\n",
       "    </tr>\n",
       "    <tr>\n",
       "      <th>99</th>\n",
       "      <td>ROADWAY</td>\n",
       "      <td>UV Protection Aviator Sunglasses (59)</td>\n",
       "      <td>₹845</td>\n",
       "    </tr>\n",
       "  </tbody>\n",
       "</table>\n",
       "<p>100 rows × 3 columns</p>\n",
       "</div>"
      ],
      "text/plain": [
       "            Btand                                Product_Description   Price\n",
       "0    Being Better  UV Protection, Gradient Wayfarer, Wrap-around ...  ₹3,149\n",
       "1   VINCENT CHASE   Polarized, UV Protection Aviator Sunglasses (56)  ₹1,039\n",
       "2        Fastrack  Polarized, UV Protection, Gradient Butterfly, ...    ₹613\n",
       "3         ROADWAY  Polarized, UV Protection Wayfarer Sunglasses (46)  ₹1,228\n",
       "4   VINCENT CHASE  UV Protection, Gradient Rectangular, Retro Squ...    ₹344\n",
       "..            ...                                                ...     ...\n",
       "95      ROYAL SON  Polarized, UV Protection Wayfarer, Round Sungl...    ₹769\n",
       "96      ROYAL SON                 Gradient Butterfly Sunglasses (53)  ₹2,506\n",
       "97         AISLIN             UV Protection Wayfarer Sunglasses (53)  ₹3,625\n",
       "98    john jacobs                     Gradient Round Sunglasses (51)  ₹2,653\n",
       "99        ROADWAY              UV Protection Aviator Sunglasses (59)    ₹845\n",
       "\n",
       "[100 rows x 3 columns]"
      ]
     },
     "execution_count": 13,
     "metadata": {},
     "output_type": "execute_result"
    }
   ],
   "source": [
    "data=pd.DataFrame({'Btand':brand,'Product_Description':product_description,'Price':price})\n",
    "data.head(100)"
   ]
  }
 ],
 "metadata": {
  "kernelspec": {
   "display_name": "Python 3 (ipykernel)",
   "language": "python",
   "name": "python3"
  },
  "language_info": {
   "codemirror_mode": {
    "name": "ipython",
    "version": 3
   },
   "file_extension": ".py",
   "mimetype": "text/x-python",
   "name": "python",
   "nbconvert_exporter": "python",
   "pygments_lexer": "ipython3",
   "version": "3.11.5"
  }
 },
 "nbformat": 4,
 "nbformat_minor": 5
}
